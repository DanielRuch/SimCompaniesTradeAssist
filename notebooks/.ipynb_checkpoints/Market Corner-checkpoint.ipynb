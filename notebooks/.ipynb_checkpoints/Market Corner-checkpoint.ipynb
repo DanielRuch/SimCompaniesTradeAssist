{
 "cells": [
  {
   "cell_type": "code",
   "execution_count": 5,
   "metadata": {},
   "outputs": [],
   "source": [
    "# Import Modules\n",
    "import requests\n",
    "import json\n",
    "import datetime"
   ]
  },
  {
   "cell_type": "code",
   "execution_count": null,
   "metadata": {},
   "outputs": [],
   "source": [
    "#Item id's\n",
    "# 1 - Power\n",
    "#79 - High Grade E Comps\n",
    "#80 - FLight Computers\n",
    "#82 - Attitude Control"
   ]
  },
  {
   "cell_type": "code",
   "execution_count": 77,
   "metadata": {},
   "outputs": [
    {
     "name": "stdout",
     "output_type": "stream",
     "text": [
      "2020-07-11 17:16:36.372499\n"
     ]
    }
   ],
   "source": [
    "targetURL = \"https://www.simcompanies.com/api/v2/market/\"\n",
    "itemId = 80\n",
    "targetURL += str(itemId)\n",
    "runtime = datetime.datetime.now()\n",
    "print(runtime)\n",
    "marketData = requests.get(targetURL).json()"
   ]
  },
  {
   "cell_type": "code",
   "execution_count": 76,
   "metadata": {},
   "outputs": [
    {
     "name": "stdout",
     "output_type": "stream",
     "text": [
      "9.20 \n"
     ]
    }
   ],
   "source": [
    "#Rerun this to get time since last API call - dev requires 5 mins between calls\n",
    "curtime = datetime.datetime.now()\n",
    "#d1 = datetime.strftime(runtime, \"%Y-%m-%d\")\n",
    "#d2 = datetime.strftime(curtime, \"%Y-%m-%d\")\n",
    "difftime = (curtime - runtime)\n",
    "print(f'{(difftime.seconds/60):.2f} ')"
   ]
  },
  {
   "cell_type": "code",
   "execution_count": 81,
   "metadata": {},
   "outputs": [
    {
     "name": "stdout",
     "output_type": "stream",
     "text": [
      "    Profit   Qty      Total % Return\n",
      "  -2730.10    23   120750.0  -2.2610\n",
      "  -3067.50    25   131350.0  -2.3354\n",
      "  -3725.60    68   359250.0  -1.0370\n",
      " -15057.80   134   715650.0  -2.1041\n",
      " -16379.25   165   883050.0  -1.8548\n",
      " -39487.55   299  1610000.0  -2.4526\n",
      " -33422.40   307  1653400.0  -2.0214\n",
      " -48317.60   393  2122100.0  -2.2769\n",
      " -56631.20   441  2383700.0  -2.3758\n",
      " -48915.95   461  2492700.0  -1.9624\n",
      " -64223.55   549  2974500.0  -2.1591\n",
      " -51509.10   553  2996400.0  -1.7190\n",
      " -64786.30   629  3414400.0  -1.8974\n",
      " -85750.30   749  4074400.0  -2.1046\n",
      " -68188.85   753  4096400.0  -1.6646\n",
      "   4773.70   754  4101925.0   0.1164\n",
      "  57513.20   774  4214425.0   1.3647\n",
      "  50646.60   812  4431025.0   1.1430\n",
      "  34925.70   899  4926925.0   0.7089\n",
      "  34383.60   902  4944025.0   0.6955\n",
      "  77998.40   903  4949725.0   1.5758\n",
      "  65244.40   973  5352225.0   1.2190\n",
      "  99064.90  1073  5927225.0   1.6714\n",
      "  90982.10  1117  6182425.0   1.4716\n",
      "  97295.80  1471  8235625.0   1.1814\n",
      " 159331.05  1871 10575625.0   1.5066\n",
      " 285352.70  1959 11097025.0   2.5714\n",
      " 426700.45  1969 11157025.0   3.8245\n",
      " 472771.70  1979 11217775.0   4.2145\n",
      " 539913.20  2179 12437775.0   4.3409\n",
      " 526983.30  2566 14817825.0   3.5564\n",
      " 508852.95  2659 15392100.0   3.3059\n",
      " 689342.00  2765 16046650.0   4.2959\n",
      " 686778.40  2778 16127900.0   4.2583\n",
      "1225576.00  2820 16390400.0   7.4774\n",
      "1267834.30  2966 17332100.0   7.3149\n",
      "1626634.80  2976 17396850.0   9.3502\n",
      "1542724.00  3380 20063250.0   7.6893\n",
      "1870473.30  3381 20069850.0   9.3198\n",
      "2105129.15  3463 20619250.0  10.2095\n"
     ]
    }
   ],
   "source": [
    "#Set intended quality - 0 for all items\n",
    "quality = 1\n",
    "runningQty = 0\n",
    "runningPrice = 0\n",
    "runningTotal = 0\n",
    "rowCnt = 1\n",
    "print(f'{\"Profit\":>10} {\"Qty\":>5} {\"Total\":>10} {\"% Return\":>8}')\n",
    "for i in marketData:\n",
    "    if i['quality'] >= quality:\n",
    "        #print(i)\n",
    "        \n",
    "        #Capture quantity and price \n",
    "        qty = i['quantity']\n",
    "        price = i['price']\n",
    "        total = qty * price\n",
    "        \n",
    "        #Undercutting by 10, see if our current running total would be profitable at current price\n",
    "        if rowCnt > 1: #only do this if not on first row\n",
    "            sellPrice = price - 10 #Calculate sell price, undercut current row by 10\n",
    "            tax = sellPrice * 0.03 #Factor in sell tax\n",
    "            perUProfit = sellPrice - (runningPrice + tax)\n",
    "            totalProfit = perUProfit * runningQty\n",
    "            percReturn = 100 * (totalProfit/runningTotal)\n",
    "\n",
    "            print(f'{totalProfit:10.2f} {runningQty:5} {runningTotal:10} {percReturn:8.4f}')\n",
    "            #print(f'Profit: {totalProfit:.2f} | Volume: {runningQty} | Total Investment: {runningTotal} | % Return: {percReturn:.4f}')\n",
    "            \n",
    "        #Add to running total\n",
    "        runningQty += qty\n",
    "        runningTotal += total\n",
    "        \n",
    "        #Recalculate average price\n",
    "        runningPrice = runningTotal / runningQty\n",
    "        \n",
    "        rowCnt += 1"
   ]
  },
  {
   "cell_type": "code",
   "execution_count": null,
   "metadata": {},
   "outputs": [],
   "source": []
  }
 ],
 "metadata": {
  "kernelspec": {
   "display_name": "Python 3",
   "language": "python",
   "name": "python3"
  },
  "language_info": {
   "codemirror_mode": {
    "name": "ipython",
    "version": 3
   },
   "file_extension": ".py",
   "mimetype": "text/x-python",
   "name": "python",
   "nbconvert_exporter": "python",
   "pygments_lexer": "ipython3",
   "version": "3.7.4"
  }
 },
 "nbformat": 4,
 "nbformat_minor": 2
}
